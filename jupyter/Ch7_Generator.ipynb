{
 "cells": [
  {
   "cell_type": "markdown",
   "metadata": {},
   "source": [
    "# Chapter 7. 제너레이터 사용하기\n",
    "\n",
    "## 제너레이터 만들기\n",
    "\n",
    "+ 제너레이터는 한번에 하나씩 구성요소를 반환해주는 이터러블을 생성해주는 객체\n",
    "+ 메모리를 적게 사용하는 반복을 위한 방법으로 2001년에 소개됨\n",
    "+ <b>yield</b> 키워드를 사용하면 제너레이터 함수가 됨\n",
    "+ <a href=\"https://medium.com/@silmari/python-tempfile-%EC%9E%84%EC%8B%9C%ED%8C%8C%EC%9D%BC-%EB%B0%8F-%ED%8F%B4%EB%8D%94-%EB%A7%8C%EB%93%A4%EA%B8%B0-86ea533086ce\"> gettemdir 설명 </a>"
   ]
  },
  {
   "cell_type": "code",
   "execution_count": 1,
   "metadata": {},
   "outputs": [],
   "source": [
    "import os\n",
    "from tempfile import gettempdir\n",
    "\n",
    "PURCHASES_FILE = os.path.join(gettempdir(), \"purchases.csv\")\n",
    "\n",
    "\n",
    "def create_purchases_file(filename, entries=1_000_000):\n",
    "    if os.path.exists(PURCHASES_FILE):\n",
    "        return\n",
    "\n",
    "    with open(filename, \"w+\") as f:\n",
    "        for i in range(entries):\n",
    "            line = f\"2018-01-01,{i}\\n\"\n",
    "            f.write(line)"
   ]
  },
  {
   "cell_type": "code",
   "execution_count": 2,
   "metadata": {},
   "outputs": [
    {
     "name": "stderr",
     "output_type": "stream",
     "text": [
      "Results: PurchasesStats(0.0, 999999.0, 499999.5)\n"
     ]
    }
   ],
   "source": [
    "import logging\n",
    "\n",
    "logging.basicConfig(level=logging.INFO, format=\"%(message)s\")\n",
    "logger = logging.getLogger(__name__)\n",
    "\n",
    "class PurchasesStats:\n",
    "    def __init__(self, purchases):\n",
    "        self.purchases = iter(purchases)\n",
    "        self.min_price: float = None\n",
    "        self.max_price: float = None\n",
    "        self._total_purchases_price: float = 0.0\n",
    "        self._total_purchases = 0\n",
    "        self._initialize()\n",
    "\n",
    "    def _initialize(self):\n",
    "        try:\n",
    "            first_value = next(self.purchases)\n",
    "        except StopIteration:\n",
    "            raise ValueError(\"no values provided\")\n",
    "\n",
    "        self.min_price = self.max_price = first_value\n",
    "        self._update_avg(first_value)\n",
    "\n",
    "    def process(self):\n",
    "        for purchase_value in self.purchases:\n",
    "            self._update_min(purchase_value)\n",
    "            self._update_max(purchase_value)\n",
    "            self._update_avg(purchase_value)\n",
    "        return self\n",
    "\n",
    "    def _update_min(self, new_value: float):\n",
    "        if new_value < self.min_price:\n",
    "            self.min_price = new_value\n",
    "\n",
    "    def _update_max(self, new_value: float):\n",
    "        if new_value > self.max_price:\n",
    "            self.max_price = new_value\n",
    "\n",
    "    @property\n",
    "    def avg_price(self):\n",
    "        return self._total_purchases_price / self._total_purchases\n",
    "\n",
    "    def _update_avg(self, new_value: float):\n",
    "        self._total_purchases_price += new_value\n",
    "        self._total_purchases += 1\n",
    "\n",
    "    def __str__(self):\n",
    "        return (\n",
    "            f\"{self.__class__.__name__}({self.min_price}, \"\n",
    "            f\"{self.max_price}, {self.avg_price})\"\n",
    "        )\n",
    "\n",
    "\n",
    "def _load_purchases(filename):\n",
    "    \"\"\"\n",
    "    list 사용\n",
    "    \"\"\"\n",
    "    purchases = []\n",
    "    with open(filename) as f:\n",
    "        for line in f:\n",
    "            *_, price_raw = line.partition(\",\")\n",
    "            purchases.append(float(price_raw))\n",
    "\n",
    "    return purchases\n",
    "\n",
    "\n",
    "def load_purchases(filename):\n",
    "    \"\"\"\n",
    "    제너레이터\n",
    "    \"\"\"\n",
    "    with open(filename) as f:\n",
    "        for line in f:\n",
    "            *_, price_raw = line.partition(\",\")\n",
    "            yield float(price_raw)\n",
    "\n",
    "\n",
    "def main():\n",
    "    create_purchases_file(PURCHASES_FILE)\n",
    "    purchases = load_purchases(PURCHASES_FILE)\n",
    "    stats = PurchasesStats(purchases).process()\n",
    "    logger.info(\"Results: %s\", stats)\n",
    "\n",
    "\n",
    "if __name__ == \"__main__\":\n",
    "    main()"
   ]
  },
  {
   "cell_type": "markdown",
   "metadata": {},
   "source": [
    "### 제너레이터 표현식\n",
    "```\n",
    "sum(x**2 for x in range(10)\n",
    "```"
   ]
  },
  {
   "cell_type": "markdown",
   "metadata": {},
   "source": [
    "## 이상적인 반복\n",
    "### 관용적인 반복코드"
   ]
  },
  {
   "cell_type": "code",
   "execution_count": 3,
   "metadata": {},
   "outputs": [
    {
     "data": {
      "text/plain": [
       "[(0, 'a'), (1, 'b'), (2, 'c'), (3, 'd'), (4, 'e'), (5, 'f')]"
      ]
     },
     "execution_count": 3,
     "metadata": {},
     "output_type": "execute_result"
    }
   ],
   "source": [
    "class SequenceOfNumber():\n",
    "\n",
    "    def __init__(self, start=0):\n",
    "        self.current = start\n",
    "        \n",
    "    def __next__(self):\n",
    "        current, self.current = self.current, self.current + 1\n",
    "        return current\n",
    "    \n",
    "    def __iter__(self):\n",
    "        return self\n",
    "    \n",
    "list(zip(SequenceOfNumber(0), \"abcdef\"))"
   ]
  },
  {
   "cell_type": "markdown",
   "metadata": {},
   "source": [
    "#### next함수\n",
    "+ 다음 요소로 이동시키고 기존의 값을 반환\n",
    "+ 이터레이터가 더 이상의 값을 가지고 있지 않다면 StopIteration 예외가 발생함\n",
    "+ StopIteration 예외 대신 기본값을 반환할 수 있음"
   ]
  },
  {
   "cell_type": "code",
   "execution_count": 4,
   "metadata": {},
   "outputs": [
    {
     "data": {
      "text/plain": [
       "'c'"
      ]
     },
     "execution_count": 4,
     "metadata": {},
     "output_type": "execute_result"
    }
   ],
   "source": [
    "word = iter(\"abc\")\n",
    "next(word)\n",
    "next(word)\n",
    "next(word)"
   ]
  },
  {
   "cell_type": "code",
   "execution_count": 5,
   "metadata": {},
   "outputs": [
    {
     "ename": "StopIteration",
     "evalue": "",
     "output_type": "error",
     "traceback": [
      "\u001b[0;31m\u001b[0m",
      "\u001b[0;31mStopIteration\u001b[0mTraceback (most recent call last)",
      "\u001b[0;32m<ipython-input-5-048549949631>\u001b[0m in \u001b[0;36m<module>\u001b[0;34m\u001b[0m\n\u001b[0;32m----> 1\u001b[0;31m \u001b[0mnext\u001b[0m\u001b[0;34m(\u001b[0m\u001b[0mword\u001b[0m\u001b[0;34m)\u001b[0m\u001b[0;34m\u001b[0m\u001b[0;34m\u001b[0m\u001b[0m\n\u001b[0m",
      "\u001b[0;31mStopIteration\u001b[0m: "
     ]
    }
   ],
   "source": [
    "next(word)"
   ]
  },
  {
   "cell_type": "code",
   "execution_count": null,
   "metadata": {},
   "outputs": [],
   "source": [
    "next(word, \"default value\")"
   ]
  },
  {
   "cell_type": "markdown",
   "metadata": {},
   "source": [
    "#### 제너레이터 사용하기\n",
    "+ yield를 활용하여 클래스 사용없이 간단하게 구현 가능"
   ]
  },
  {
   "cell_type": "code",
   "execution_count": null,
   "metadata": {},
   "outputs": [],
   "source": [
    "def sequnce(num):\n",
    "    curr = 0\n",
    "    while(True):\n",
    "        retrun_val, curr = curr, curr + 1\n",
    "        yield retrun_val\n",
    "        \n",
    "list(zip(sequnce(0), \"abcdef\"))        "
   ]
  },
  {
   "cell_type": "markdown",
   "metadata": {},
   "source": [
    "#### itertools\n",
    "+ islice : 원하는 갯수만큼 잘라서 반환\n",
    "+ tee : 이터러블을 원하는 수만큼 복제"
   ]
  },
  {
   "cell_type": "code",
   "execution_count": null,
   "metadata": {},
   "outputs": [],
   "source": [
    "\"\"\" 특정 조건의 가격만 계산하기 \"\"\"\n",
    "from itertools import islice, tee\n",
    "\n",
    "purchases = islice(filter(lambda x: x > 1000.0, load_purchases(PURCHASES_FILE)), 10) # 처음 10개만 처리\n",
    "stats = PurchasesStats(purchases).process()\n",
    "logger.info(\"Results: %s\", stats)\n",
    "\n",
    "\n",
    "\"\"\" 이터러블 복제하기 \"\"\"\n",
    "def process_purchases(purchases):\n",
    "    min_, max_ = tee(purchases, 2)\n",
    "    return min(min_), max(max_)\n",
    "\n",
    "purchases = load_purchases(PURCHASES_FILE)\n",
    "logger.info(\"Results: %d, %d\", *process_purchases(purchases))"
   ]
  },
  {
   "cell_type": "markdown",
   "metadata": {},
   "source": [
    "#### 중첩 루프"
   ]
  },
  {
   "cell_type": "code",
   "execution_count": 6,
   "metadata": {},
   "outputs": [
    {
     "name": "stderr",
     "output_type": "stream",
     "text": [
      "value 12 found at [2, 3]\n"
     ]
    }
   ],
   "source": [
    "def search_nested_bad(array, desired_value):\n",
    "    \"\"\"Example of an iteration in a nested loop.\"\"\"\n",
    "    coords = None\n",
    "    for i, row in enumerate(array):\n",
    "        for j, cell in enumerate(row):\n",
    "            if cell == desired_value:\n",
    "                coords = (i, j)\n",
    "                break\n",
    "\n",
    "        if coords is not None:\n",
    "            break\n",
    "\n",
    "    if coords is None:\n",
    "        raise ValueError(f\"{desired_value} not found\")\n",
    "\n",
    "    logger.info(\"value %r found at [%i, %i]\", desired_value, *coords)\n",
    "    return coords\n",
    "\n",
    "\n",
    "def _iterate_array2d(array2d):\n",
    "    for i, row in enumerate(array2d):\n",
    "        for j, cell in enumerate(row):\n",
    "            yield (i, j), cell\n",
    "\n",
    "\n",
    "def search_nested(array, desired_value):\n",
    "    \"\"\"\"Searching in multiple dimensions with a single loop.\"\"\"\n",
    "    try:\n",
    "        coord = next(\n",
    "            coord\n",
    "            for (coord, cell) in _iterate_array2d(array)\n",
    "            if cell == desired_value\n",
    "        )\n",
    "    except StopIteration:\n",
    "        raise ValueError(f\"{desired_value} not found\")\n",
    "\n",
    "    logger.info(\"value %r found at [%i, %i]\", desired_value, *coord)\n",
    "    return coord\n",
    "\n",
    "\n",
    "if __name__ == \"__main__\":\n",
    "    array2d = [[1, 2, 3, 4], [5, 6, 7, 8], [9, 10, 11, 12]]\n",
    "    # search_nested_bad(array2d, 13) 같은 결과이나 코드가 복잡\n",
    "    search_nested(array2d, 12)"
   ]
  },
  {
   "cell_type": "markdown",
   "metadata": {},
   "source": [
    "### 파이썬의 이터레이터 패턴\n",
    "+ \\_\\_iter\\_\\_ 매직 메서드를 통해 이터레이터를 반환하고, \\_\\_next\\_\\_ 매직 메서드를 통해 반복 로직을 구현\n",
    "+ 모든 제너레이터는 이터레이터임\n",
    "+ \\_\\_len()\\_\\_, \\_\\_getitem\\_\\_()를 구현한 시퀀스 객체도 반복 가능함"
   ]
  },
  {
   "cell_type": "code",
   "execution_count": 7,
   "metadata": {},
   "outputs": [],
   "source": [
    "class SequenceWrapper:\n",
    "    def __init__(self, original_sequence):\n",
    "        self.seq = original_sequence\n",
    "\n",
    "    def __getitem__(self, item):\n",
    "        value = self.seq[item]\n",
    "        logger.info(\"%s getting %s\", self.__class__.__name__, item)\n",
    "        return value\n",
    "\n",
    "    def __len__(self):\n",
    "        return len(self.seq)\n",
    "\n",
    "\n",
    "class MappedRange:\n",
    "    \"\"\"Apply a transformation to a range of numbers.\"\"\"\n",
    "\n",
    "    def __init__(self, transformation, start, end):\n",
    "        self._transformation = transformation\n",
    "        self._wrapped = range(start, end)\n",
    "\n",
    "    def __getitem__(self, index):\n",
    "        value = self._wrapped.__getitem__(index)\n",
    "        result = self._transformation(value)\n",
    "        logger.info(\"Index %d: %s\", index, result)\n",
    "        return result\n",
    "\n",
    "    def __len__(self):\n",
    "        return len(self._wrapped)"
   ]
  },
  {
   "cell_type": "code",
   "execution_count": 8,
   "metadata": {},
   "outputs": [
    {
     "name": "stderr",
     "output_type": "stream",
     "text": [
      "Index 0: 2\n",
      "Index 0: 2\n",
      "Index 1: 3\n",
      "Index 2: 4\n"
     ]
    },
    {
     "name": "stdout",
     "output_type": "stream",
     "text": [
      "2\n"
     ]
    },
    {
     "data": {
      "text/plain": [
       "[2, 3, 4]"
      ]
     },
     "execution_count": 8,
     "metadata": {},
     "output_type": "execute_result"
    }
   ],
   "source": [
    "seq = SequenceWrapper((0,1,2,3,4,5,6,7,8,9))\n",
    "mr = MappedRange(abs, 2, 5)\n",
    "print(mr[0])\n",
    "list(mr)"
   ]
  },
  {
   "cell_type": "markdown",
   "metadata": {},
   "source": [
    "## 코루틴(coroutine)"
   ]
  },
  {
   "cell_type": "markdown",
   "metadata": {},
   "source": [
    "+ 코루틴의 인터페이스\n",
    "    + close()\n",
    "        + 제너레이터에서 GeneratorExit 예외가 발생하며, 이 예외를 따로 처리하지 않으면 제너레이터 더 이상 값을 생성하지 않으며 반복이 중지됨\n",
    "    + throw(ex_type[, ex_value[, ex_traceback]])\n",
    "        + 현재 제너레이터가 중단된 위치에서 예외를 던짐\n",
    "    + send(value)\n",
    "        + 제너레이터와 코루틴을 구분하는 기준으로 yield 키워드가 할당 구문의 오른쪽에 나오게 되고 인자 값을 받아서 다른 곳에서 할당할 수 있음을 뜻함\n",
    "        + next()를 먼저 호출해야 함\n",
    "        + next()를 자동 호출해주는 @prepare_coroutine을 사용하면 편리함"
   ]
  },
  {
   "cell_type": "code",
   "execution_count": 9,
   "metadata": {},
   "outputs": [
    {
     "name": "stdout",
     "output_type": "stream",
     "text": [
      ">>> returned value 3\n"
     ]
    }
   ],
   "source": [
    "\"\"\" Stop exception을 활용한 리턴 방법(실제로 쓰이진 않음) \"\"\"\n",
    "def generator():\n",
    "    yield 1\n",
    "    yield 2\n",
    "    return 3\n",
    "\n",
    "gen = generator()\n",
    "\n",
    "while(True):\n",
    "    try:\n",
    "        next(gen)\n",
    "    except StopIteration as e:\n",
    "        print(\">>> returned value\", e.value)\n",
    "        break"
   ]
  },
  {
   "cell_type": "code",
   "execution_count": 10,
   "metadata": {},
   "outputs": [],
   "source": [
    "\"\"\" 간단한 yield from 사례 \"\"\" \n",
    "def chain(*iterables):\n",
    "    for it in iterables:\n",
    "        for values in it:\n",
    "            yield value"
   ]
  },
  {
   "cell_type": "code",
   "execution_count": 11,
   "metadata": {},
   "outputs": [],
   "source": [
    "def chain(*iterables):\n",
    "    for it in iterables:\n",
    "        yield from it # "
   ]
  },
  {
   "cell_type": "code",
   "execution_count": 12,
   "metadata": {},
   "outputs": [
    {
     "data": {
      "text/plain": [
       "['h', 'e', 'l', 'l', 'o', 'world', 'tuple', 'value']"
      ]
     },
     "execution_count": 12,
     "metadata": {},
     "output_type": "execute_result"
    }
   ],
   "source": [
    "list(chain(\"hello\", [\"world\"], (\"tuple\", \"value\")))"
   ]
  },
  {
   "cell_type": "code",
   "execution_count": 13,
   "metadata": {},
   "outputs": [
    {
     "name": "stderr",
     "output_type": "stream",
     "text": [
      "first started at 0\n",
      "first finished at 5\n",
      "second started at 5\n",
      "second finished at 10\n"
     ]
    },
    {
     "name": "stdout",
     "output_type": "stream",
     "text": [
      ">>> returned value 15\n"
     ]
    }
   ],
   "source": [
    "\"\"\" 서브 제너레이터에서 반환된 값 구하기\n",
    "yield from을 사용하면 코루틴의 종료 시 최종 반환 값을 구할 수 있음\n",
    "\"\"\"\n",
    "\n",
    "def sequence(name, start, end):\n",
    "    logger.info(\"%s started at %i\", name, start)\n",
    "    yield from range(start, end)\n",
    "    logger.info(\"%s finished at %i\", name, end)\n",
    "    return end\n",
    "\n",
    "def main():\n",
    "    step1 = yield from sequence(\"first\", 0, 5)\n",
    "    step2 = yield from sequence(\"second\", step1, 10)\n",
    "    return step1 + step2\n",
    "\n",
    "g = main()\n",
    "\n",
    "while(True): # yield from을 처음부터 쓸 수는 없음\n",
    "    try:\n",
    "        next(g)\n",
    "    except StopIteration as e:\n",
    "        print(\">>> returned value\", e.value) # 리턴값을 반환받을 수 있음\n",
    "        break"
   ]
  },
  {
   "cell_type": "code",
   "execution_count": 14,
   "metadata": {
    "jupyter": {
     "source_hidden": true
    }
   },
   "outputs": [
    {
     "name": "stderr",
     "output_type": "stream",
     "text": [
      "first started at 0\n",
      "first received None\n",
      "first received None\n",
      "first received None\n",
      "first received None\n",
      "first received None\n",
      "second started at 5\n",
      "second received None\n",
      "second received None\n",
      "second received None\n",
      "second received None\n",
      "second received None\n"
     ]
    },
    {
     "name": "stdout",
     "output_type": "stream",
     "text": [
      "[0, 1, 2, 3, 4, 5, 6, 7, 8, 9]\n"
     ]
    }
   ],
   "source": [
    "\"\"\" 서브 제너레이터와 테이터 송수신하기 \"\"\"\n",
    "\n",
    "class CustomException(Exception):\n",
    "    \"\"\"A type of exception that is under control.\"\"\"\n",
    "\n",
    "\n",
    "def sequence(name, start, end):\n",
    "    value = start\n",
    "    logger.info(\"%s started at %i\", name, value)\n",
    "    while value < end:\n",
    "        try:\n",
    "            received = yield value\n",
    "            logger.info(\"%s received %r\", name, received)\n",
    "            value += 1\n",
    "        except CustomException as e:\n",
    "            logger.info(\"%s is handling %s\", name, e)\n",
    "            received = yield \"OK\"\n",
    "    return end\n",
    "\n",
    "\n",
    "def main():\n",
    "    step1 = yield from sequence(\"first\", 0, 5)\n",
    "    step2 = yield from sequence(\"second\", step1, 10)\n",
    "\n",
    "if __name__ == \"__main__\":\n",
    "    print(list(main()))"
   ]
  }
 ],
 "metadata": {
  "kernelspec": {
   "display_name": "Python 3",
   "language": "python",
   "name": "python3"
  },
  "language_info": {
   "codemirror_mode": {
    "name": "ipython",
    "version": 3
   },
   "file_extension": ".py",
   "mimetype": "text/x-python",
   "name": "python",
   "nbconvert_exporter": "python",
   "pygments_lexer": "ipython3",
   "version": "3.7.6"
  }
 },
 "nbformat": 4,
 "nbformat_minor": 4
}
