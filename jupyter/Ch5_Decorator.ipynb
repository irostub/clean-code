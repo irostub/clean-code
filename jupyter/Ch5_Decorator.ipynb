{
 "cells": [
  {
   "cell_type": "markdown",
   "metadata": {},
   "source": [
    "# Chapter 5. 데코레이터를 활용한 코드 개선\n",
    "+ 데코레이터 패턴과 혼동하지 말 것\n",
    "\n",
    "## 함수 데코레이터"
   ]
  },
  {
   "cell_type": "code",
   "execution_count": 1,
   "metadata": {},
   "outputs": [
    {
     "name": "stdout",
     "output_type": "stream",
     "text": [
      "Completed a function\n"
     ]
    }
   ],
   "source": [
    "\"\"\" 도메인의 특정 예외에 대해서 특정 횟수만큼 재시도하는 데코레이터 \"\"\"\n",
    "\n",
    "from functools import wraps\n",
    "from random import randint\n",
    "import logging\n",
    "\n",
    "class ControlledException(Exception):\n",
    "    \"\"\" 일반적인 예외 가정 \"\"\"\n",
    "\n",
    "def retry(operation):\n",
    "    @wraps(operation)\n",
    "    def wrapped(*args, **kargs):\n",
    "        last_raised = None\n",
    "        RETRIES_LIMIT = 3\n",
    "        for i in range(RETRIES_LIMIT):\n",
    "            try:\n",
    "                return operation(*args, **kargs)\n",
    "            except ControlledException as e:\n",
    "                logger.info(\"retrying %s\", operation.__qualname__)\n",
    "                last_raised = e\n",
    "        raise last_raised\n",
    "    return wrapped\n",
    "\n",
    "\n",
    "@retry\n",
    "def run_operation(a:int, b:int):\n",
    "    if randint(a, b) % 2 == 0:\n",
    "        print(\"Completed a function\")\n",
    "    else:\n",
    "        raise ControlledException()\n",
    "\n",
    "if __name__ == \"__main__\":\n",
    "    logger = logging.getLogger('example')\n",
    "    logger.setLevel(logging.DEBUG)\n",
    "    run_operation(0, 9)"
   ]
  },
  {
   "cell_type": "markdown",
   "metadata": {},
   "source": [
    "## 클래스 데코레이터\n",
    "+ 파라미터로 함수가 아닌 클래스를 받는다는 점만 차이점이 있음\n",
    "+ 장점\n",
    "    + 코드 재사용과 DRY 원칙의 모든 이점을 공유할 수 있음\n",
    "    + 당장은 작고 간단한 클래스를 생성하고 나중에 데코레이터로 기능을 보강할 수 있음\n",
    "    + 기존 로직을 쉽게 변경 가능하며, 메타클래스와 같은 방법보다 비교적 간단함"
   ]
  },
  {
   "cell_type": "code",
   "execution_count": 2,
   "metadata": {},
   "outputs": [
    {
     "name": "stdout",
     "output_type": "stream",
     "text": [
      "{'username': 'shyeon', 'password': '****', 'ip': '127.0.0.1'}\n"
     ]
    }
   ],
   "source": [
    "\"\"\" 확장에 불리한 구조: 이벤트 클래스와 직렬화 클래스가 1대 1로 매팅됨 \"\"\"\n",
    "\n",
    "class LoginEventSerializer:\n",
    "    def __init__(self, event):\n",
    "        self.event = event\n",
    "\n",
    "    def serialize(self) -> dict:\n",
    "        return {\n",
    "            \"username\": self.event.username,\n",
    "            \"password\": len(self.event.password) * \"*\",\n",
    "            \"ip\": self.event.ip,\n",
    "        }\n",
    "\n",
    "\n",
    "class LoginEvent:\n",
    "    SERIALIZER = LoginEventSerializer\n",
    "\n",
    "    def __init__(self, username, password, ip):\n",
    "        self.username = username\n",
    "        self.password = password\n",
    "        self.ip = ip\n",
    "\n",
    "    def serialize(self) -> dict:\n",
    "        return self.SERIALIZER(self).serialize()\n",
    "\n",
    "\n",
    "if __name__ == \"__main__\":\n",
    "    event = LoginEvent(\"shyeon\", \"0524\", \"127.0.0.1\")\n",
    "    print(event.serialize())"
   ]
  },
  {
   "cell_type": "code",
   "execution_count": 3,
   "metadata": {},
   "outputs": [
    {
     "name": "stdout",
     "output_type": "stream",
     "text": [
      "{'username': 'shyeon', 'password': '****', 'ip': '127.0.0.1', 'timestamp': '2020-02-14 09:00'}\n"
     ]
    }
   ],
   "source": [
    "\"\"\" 데코레이션을 활용한 구조 개선 \"\"\"\n",
    "\n",
    "from datetime import datetime\n",
    "\n",
    "def hide_field(field) -> str:\n",
    "    return len(field) * \"*\"\n",
    "\n",
    "def format_time(field_timestamp: datetime) -> str:\n",
    "    return field_timestamp.strftime(\"%Y-%m-%d %H:%M\")\n",
    "\n",
    "def show_original(event_field):\n",
    "    return event_field\n",
    "\n",
    "\n",
    "class EventSerializer:\n",
    "    def __init__(self, serialization_fields: dict) -> None:\n",
    "        self.serialization_fields = serialization_fields\n",
    "\n",
    "    def serialize(self, event) -> dict:\n",
    "        return {\n",
    "            field: transformation(getattr(event, field))\n",
    "            for field, transformation in self.serialization_fields.items()\n",
    "        }\n",
    "\n",
    "\n",
    "class Serialization:\n",
    "    def __init__(self, **transformations):\n",
    "        self.serializer = EventSerializer(transformations)\n",
    "\n",
    "    def __call__(self, event_class):\n",
    "        def serialize_method(event_instance):\n",
    "            return self.serializer.serialize(event_instance)\n",
    "        event_class.serialize = serialize_method\n",
    "        return event_class\n",
    "\n",
    "\n",
    "@Serialization(\n",
    "    username=show_original,\n",
    "    password=hide_field,\n",
    "    ip=show_original,\n",
    "    timestamp=format_time)\n",
    "class LoginEvent:\n",
    "    def __init__(self, username, password, ip, timestamp):\n",
    "        self.username = username\n",
    "        self.password = password\n",
    "        self.ip = ip\n",
    "        self.timestamp = timestamp\n",
    "\n",
    "if __name__ == \"__main__\":\n",
    "    event = LoginEvent(\"shyeon\", \"0524\", \"127.0.0.1\", datetime(2020, 2, 14, 9, 00, 00))\n",
    "    print(event.serialize())"
   ]
  },
  {
   "cell_type": "code",
   "execution_count": 4,
   "metadata": {},
   "outputs": [
    {
     "name": "stdout",
     "output_type": "stream",
     "text": [
      "{'username': 'shyeon', 'password': '****', 'ip': '127.0.0.1', 'timestamp': '2020-02-14 09:00'}\n"
     ]
    }
   ],
   "source": [
    "\"\"\" dataclass 데코레이터: init 함수의 단순코드 작성 간편화 \"\"\"\n",
    "\n",
    "from dataclasses import dataclass\n",
    "from datetime import datetime\n",
    "\n",
    "@Serialization(\n",
    "    username=show_original,\n",
    "    password=hide_field,\n",
    "    ip=show_original,\n",
    "    timestamp=format_time)\n",
    "@dataclass\n",
    "class LoginEvent:\n",
    "    username: str\n",
    "    password: str\n",
    "    ip: str\n",
    "    timestamp: datetime\n",
    "\n",
    "if __name__ == \"__main__\":\n",
    "    event = LoginEvent(\"shyeon\", \"0524\", \"127.0.0.1\", datetime(2020, 2, 14, 9, 00, 00))\n",
    "    print(event.serialize())"
   ]
  },
  {
   "cell_type": "markdown",
   "metadata": {},
   "source": [
    "## 데코레이터에 인자 전달\n",
    "+ 간접 참조를 통해 새로운 레벨의 중첩 함수를 만들어 데코레이터의 모든 것을 한 단계 더 깊게 만듬\n",
    "+ 데코레이터를 위한 클래스를 생성(가독성이 더 좋음)\n",
    "\n",
    "### 중첩함수를 사용하는 방법"
   ]
  },
  {
   "cell_type": "code",
   "execution_count": 14,
   "metadata": {},
   "outputs": [
    {
     "ename": "TypeError",
     "evalue": "'NoneType' object is not callable",
     "output_type": "error",
     "traceback": [
      "\u001b[0;31m---------------------------------------------------------------------------\u001b[0m",
      "\u001b[0;31mTypeError\u001b[0m                                 Traceback (most recent call last)",
      "\u001b[0;32m<ipython-input-14-6a9b73f1efc4>\u001b[0m in \u001b[0;36m<module>\u001b[0;34m\u001b[0m\n\u001b[1;32m     19\u001b[0m \u001b[0;34m\u001b[0m\u001b[0m\n\u001b[1;32m     20\u001b[0m \u001b[0;34m@\u001b[0m\u001b[0mwith_retry\u001b[0m\u001b[0;34m(\u001b[0m\u001b[0mretries_limit\u001b[0m\u001b[0;34m=\u001b[0m\u001b[0;36m3\u001b[0m\u001b[0;34m)\u001b[0m\u001b[0;34m\u001b[0m\u001b[0;34m\u001b[0m\u001b[0m\n\u001b[0;32m---> 21\u001b[0;31m \u001b[0;32mdef\u001b[0m \u001b[0mrun_operation\u001b[0m\u001b[0;34m(\u001b[0m\u001b[0ma\u001b[0m\u001b[0;34m:\u001b[0m\u001b[0mint\u001b[0m\u001b[0;34m,\u001b[0m \u001b[0mb\u001b[0m\u001b[0;34m:\u001b[0m\u001b[0mint\u001b[0m\u001b[0;34m)\u001b[0m\u001b[0;34m:\u001b[0m\u001b[0;34m\u001b[0m\u001b[0;34m\u001b[0m\u001b[0m\n\u001b[0m\u001b[1;32m     22\u001b[0m     \u001b[0;32mif\u001b[0m \u001b[0mrandint\u001b[0m\u001b[0;34m(\u001b[0m\u001b[0ma\u001b[0m\u001b[0;34m,\u001b[0m \u001b[0mb\u001b[0m\u001b[0;34m)\u001b[0m \u001b[0;34m%\u001b[0m \u001b[0;36m2\u001b[0m \u001b[0;34m==\u001b[0m \u001b[0;36m0\u001b[0m\u001b[0;34m:\u001b[0m\u001b[0;34m\u001b[0m\u001b[0;34m\u001b[0m\u001b[0m\n\u001b[1;32m     23\u001b[0m         \u001b[0mprint\u001b[0m\u001b[0;34m(\u001b[0m\u001b[0;34m\"Completed a function\"\u001b[0m\u001b[0;34m)\u001b[0m\u001b[0;34m\u001b[0m\u001b[0;34m\u001b[0m\u001b[0m\n",
      "\u001b[0;31mTypeError\u001b[0m: 'NoneType' object is not callable"
     ]
    }
   ],
   "source": [
    "RETRIES_LIMIT = 3\n",
    "\n",
    "def with_retry(retries_limit=RETRIES_LIMIT, allowed_exceptions=None): # 1.인수를 전달\n",
    "    allowed_exceptions = allowed_exceptions or (ControlledException,)\n",
    "\n",
    "    def retry(operation): # 2.데코레이터가 될 함수\n",
    "        @wraps(operation)\n",
    "\n",
    "        def wrapped(*arg, **kwargs): # 3.결과를 반환\n",
    "            last_raised = None\n",
    "            for _ in range(retries_limit):\n",
    "                try:\n",
    "                    return operation(*arg, **kwargs)\n",
    "                except allowed_exceptions as e:\n",
    "                    logger.info(\"retrying %s due to %s\", operation, e)\n",
    "                    last_raised = e\n",
    "            raise last_raised\n",
    "\n",
    "\n",
    "@with_retry(retries_limit=3)\n",
    "def run_operation(a:int, b:int):\n",
    "    if randint(a, b) % 2 == 0:\n",
    "        print(\"Completed a function\")\n",
    "    else:\n",
    "        raise ControlledException()\n",
    "\n",
    "\n",
    "if __name__ == \"__main__\":\n",
    "    logger = logging.getLogger('example')\n",
    "    logger.setLevel(logging.DEBUG)\n",
    "    run_operation(0, 9)"
   ]
  },
  {
   "cell_type": "markdown",
   "metadata": {},
   "source": [
    "### 데코레이터 객체"
   ]
  },
  {
   "cell_type": "code",
   "execution_count": 15,
   "metadata": {},
   "outputs": [
    {
     "ename": "TypeError",
     "evalue": "'NoneType' object is not callable",
     "output_type": "error",
     "traceback": [
      "\u001b[0;31m---------------------------------------------------------------------------\u001b[0m",
      "\u001b[0;31mTypeError\u001b[0m                                 Traceback (most recent call last)",
      "\u001b[0;32m<ipython-input-15-a0aeec6e0918>\u001b[0m in \u001b[0;36m<module>\u001b[0;34m\u001b[0m\n\u001b[1;32m     30\u001b[0m     \u001b[0mlogger\u001b[0m \u001b[0;34m=\u001b[0m \u001b[0mlogging\u001b[0m\u001b[0;34m.\u001b[0m\u001b[0mgetLogger\u001b[0m\u001b[0;34m(\u001b[0m\u001b[0;34m'example'\u001b[0m\u001b[0;34m)\u001b[0m\u001b[0;34m\u001b[0m\u001b[0;34m\u001b[0m\u001b[0m\n\u001b[1;32m     31\u001b[0m     \u001b[0mlogger\u001b[0m\u001b[0;34m.\u001b[0m\u001b[0msetLevel\u001b[0m\u001b[0;34m(\u001b[0m\u001b[0mlogging\u001b[0m\u001b[0;34m.\u001b[0m\u001b[0mDEBUG\u001b[0m\u001b[0;34m)\u001b[0m\u001b[0;34m\u001b[0m\u001b[0;34m\u001b[0m\u001b[0m\n\u001b[0;32m---> 32\u001b[0;31m     \u001b[0mrun_operation\u001b[0m\u001b[0;34m(\u001b[0m\u001b[0;36m0\u001b[0m\u001b[0;34m,\u001b[0m \u001b[0;36m9\u001b[0m\u001b[0;34m)\u001b[0m\u001b[0;34m\u001b[0m\u001b[0;34m\u001b[0m\u001b[0m\n\u001b[0m",
      "\u001b[0;31mTypeError\u001b[0m: 'NoneType' object is not callable"
     ]
    }
   ],
   "source": [
    "RETRIES_LIMIT = 3\n",
    "\n",
    "\n",
    "class WithRetry:\n",
    "    def __init__(self, retries_limit=RETRIES_LIMIT, allowed_exceptions=None):\n",
    "        self.retries_limit = retries_limit\n",
    "        self.allowed_exceptions = allowed_exceptions or (ControlledException,)\n",
    "\n",
    "    def __call__(self, operation):\n",
    "        @wraps(operation)\n",
    "        def wrapped(*arg, **kwargs): # 3.결과를 반환\n",
    "            last_raised = None\n",
    "            for _ in range(self.retries_limit):\n",
    "                try:\n",
    "                    return operation(*arg, **kwargs)\n",
    "                except self.allowed_exceptions as e:\n",
    "                    logger.info(\"retrying %s due to %s\", operation, e)\n",
    "                    last_raised = e\n",
    "            raise last_raised\n",
    "\n",
    "\n",
    "@WithRetry(retries_limit=RETRIES_LIMIT)\n",
    "def run_operation(a:int, b:int):\n",
    "    if randint(a, b) % 2 == 0:\n",
    "        print(\"Completed a function\")\n",
    "    else:\n",
    "        raise ControlledException()\n",
    "        \n",
    "\n",
    "if __name__ == \"__main__\":\n",
    "    logger = logging.getLogger('example')\n",
    "    logger.setLevel(logging.DEBUG)\n",
    "    run_operation(0, 9)"
   ]
  },
  {
   "cell_type": "code",
   "execution_count": null,
   "metadata": {},
   "outputs": [],
   "source": []
  }
 ],
 "metadata": {
  "file_extension": ".py",
  "kernelspec": {
   "display_name": "Python 3",
   "language": "python",
   "name": "python3"
  },
  "language_info": {
   "codemirror_mode": {
    "name": "ipython",
    "version": 3
   },
   "file_extension": ".py",
   "mimetype": "text/x-python",
   "name": "python",
   "nbconvert_exporter": "python",
   "pygments_lexer": "ipython3",
   "version": "3.7.6"
  },
  "mimetype": "text/x-python",
  "name": "python",
  "npconvert_exporter": "python",
  "pygments_lexer": "ipython3",
  "version": 3
 },
 "nbformat": 4,
 "nbformat_minor": 4
}
